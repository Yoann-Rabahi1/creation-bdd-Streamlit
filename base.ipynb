{
 "cells": [
  {
   "cell_type": "markdown",
   "id": "ada2265b",
   "metadata": {},
   "source": [
    "<h1 style=\"color:red\"> Création et peuplement d'une base de données à partir d'un fichier CSV </h1>"
   ]
  },
  {
   "cell_type": "markdown",
   "id": "ce4a47a6",
   "metadata": {},
   "source": [
    "<h2><b> 1) Import des librairies </b></h2>"
   ]
  },
  {
   "cell_type": "code",
   "execution_count": 3,
   "id": "44d0ea7b",
   "metadata": {},
   "outputs": [],
   "source": [
    "import pandas as pd\n",
    "import numpy as np\n",
    "import psycopg2"
   ]
  },
  {
   "cell_type": "markdown",
   "id": "4eac3d1f",
   "metadata": {},
   "source": [
    "<h2><b> 2) Chargement du fichier CSV </b></h2>"
   ]
  },
  {
   "cell_type": "code",
   "execution_count": 4,
   "id": "90ff7e64",
   "metadata": {},
   "outputs": [
    {
     "data": {
      "text/html": [
       "<div>\n",
       "<style scoped>\n",
       "    .dataframe tbody tr th:only-of-type {\n",
       "        vertical-align: middle;\n",
       "    }\n",
       "\n",
       "    .dataframe tbody tr th {\n",
       "        vertical-align: top;\n",
       "    }\n",
       "\n",
       "    .dataframe thead th {\n",
       "        text-align: right;\n",
       "    }\n",
       "</style>\n",
       "<table border=\"1\" class=\"dataframe\">\n",
       "  <thead>\n",
       "    <tr style=\"text-align: right;\">\n",
       "      <th></th>\n",
       "      <th>OPERATEUR</th>\n",
       "      <th>FILIERE</th>\n",
       "      <th>Année</th>\n",
       "      <th>Code Département</th>\n",
       "      <th>Nom Département</th>\n",
       "      <th>Code Région</th>\n",
       "      <th>Nom Région</th>\n",
       "      <th>CODE CATEGORIE CONSOMMATION</th>\n",
       "      <th>CODE GRAND SECTEUR</th>\n",
       "      <th>Nb sites</th>\n",
       "      <th>Conso totale (MWh)</th>\n",
       "      <th>Conso moyenne (MWh)</th>\n",
       "    </tr>\n",
       "  </thead>\n",
       "  <tbody>\n",
       "    <tr>\n",
       "      <th>0</th>\n",
       "      <td>RTE</td>\n",
       "      <td>Electricité</td>\n",
       "      <td>2016</td>\n",
       "      <td>61</td>\n",
       "      <td>Orne</td>\n",
       "      <td>28</td>\n",
       "      <td>Normandie</td>\n",
       "      <td>ENT</td>\n",
       "      <td>INDUSTRIE</td>\n",
       "      <td>4.0</td>\n",
       "      <td>101127,32</td>\n",
       "      <td>25281,83</td>\n",
       "    </tr>\n",
       "    <tr>\n",
       "      <th>1</th>\n",
       "      <td>RTE</td>\n",
       "      <td>Electricité</td>\n",
       "      <td>2016</td>\n",
       "      <td>62</td>\n",
       "      <td>Pas-de-Calais</td>\n",
       "      <td>32</td>\n",
       "      <td>Hauts-de-France</td>\n",
       "      <td>ENT</td>\n",
       "      <td>TERTIAIRE</td>\n",
       "      <td>9.0</td>\n",
       "      <td>701256,73</td>\n",
       "      <td>77917,4144444444</td>\n",
       "    </tr>\n",
       "    <tr>\n",
       "      <th>2</th>\n",
       "      <td>RTE</td>\n",
       "      <td>Electricité</td>\n",
       "      <td>2016</td>\n",
       "      <td>64</td>\n",
       "      <td>Pyrénées-Atlantiques</td>\n",
       "      <td>75</td>\n",
       "      <td>Nouvelle-Aquitaine</td>\n",
       "      <td>ENT</td>\n",
       "      <td>TERTIAIRE</td>\n",
       "      <td>8.0</td>\n",
       "      <td>25220,57</td>\n",
       "      <td>3152,57125</td>\n",
       "    </tr>\n",
       "    <tr>\n",
       "      <th>3</th>\n",
       "      <td>RTE</td>\n",
       "      <td>Electricité</td>\n",
       "      <td>2016</td>\n",
       "      <td>66</td>\n",
       "      <td>Pyrénées-Orientales</td>\n",
       "      <td>76</td>\n",
       "      <td>Occitanie</td>\n",
       "      <td>ENT</td>\n",
       "      <td>TERTIAIRE</td>\n",
       "      <td>15.0</td>\n",
       "      <td>26684,75</td>\n",
       "      <td>1778,98333333333</td>\n",
       "    </tr>\n",
       "    <tr>\n",
       "      <th>4</th>\n",
       "      <td>RTE</td>\n",
       "      <td>Electricité</td>\n",
       "      <td>2016</td>\n",
       "      <td>68</td>\n",
       "      <td>Haut-Rhin</td>\n",
       "      <td>44</td>\n",
       "      <td>Grand Est</td>\n",
       "      <td>ENT</td>\n",
       "      <td>TERTIAIRE</td>\n",
       "      <td>2.0</td>\n",
       "      <td>65937,45</td>\n",
       "      <td>32968,725</td>\n",
       "    </tr>\n",
       "  </tbody>\n",
       "</table>\n",
       "</div>"
      ],
      "text/plain": [
       "  OPERATEUR      FILIERE  Année Code Département       Nom Département  \\\n",
       "0       RTE  Electricité   2016               61                  Orne   \n",
       "1       RTE  Electricité   2016               62         Pas-de-Calais   \n",
       "2       RTE  Electricité   2016               64  Pyrénées-Atlantiques   \n",
       "3       RTE  Electricité   2016               66   Pyrénées-Orientales   \n",
       "4       RTE  Electricité   2016               68             Haut-Rhin   \n",
       "\n",
       "   Code Région          Nom Région CODE CATEGORIE CONSOMMATION  \\\n",
       "0           28           Normandie                         ENT   \n",
       "1           32     Hauts-de-France                         ENT   \n",
       "2           75  Nouvelle-Aquitaine                         ENT   \n",
       "3           76           Occitanie                         ENT   \n",
       "4           44           Grand Est                         ENT   \n",
       "\n",
       "  CODE GRAND SECTEUR  Nb sites Conso totale (MWh) Conso moyenne (MWh)  \n",
       "0          INDUSTRIE       4.0          101127,32            25281,83  \n",
       "1          TERTIAIRE       9.0          701256,73    77917,4144444444  \n",
       "2          TERTIAIRE       8.0           25220,57          3152,57125  \n",
       "3          TERTIAIRE      15.0           26684,75    1778,98333333333  \n",
       "4          TERTIAIRE       2.0           65937,45           32968,725  "
      ]
     },
     "execution_count": 4,
     "metadata": {},
     "output_type": "execute_result"
    }
   ],
   "source": [
    "df = pd.read_csv(\"consoelecgaz2024.csv\", sep=\"\\t\")\n",
    "\n",
    "df.head()"
   ]
  },
  {
   "cell_type": "markdown",
   "id": "a84d6e49",
   "metadata": {},
   "source": [
    "<h2><b> 3) Prise d'information des données du fichier </b></h2>"
   ]
  },
  {
   "cell_type": "code",
   "execution_count": 6,
   "id": "ad533099",
   "metadata": {},
   "outputs": [
    {
     "name": "stdout",
     "output_type": "stream",
     "text": [
      "<class 'pandas.core.frame.DataFrame'>\n",
      "RangeIndex: 104086 entries, 0 to 104085\n",
      "Data columns (total 12 columns):\n",
      " #   Column                       Non-Null Count   Dtype  \n",
      "---  ------                       --------------   -----  \n",
      " 0   OPERATEUR                    104086 non-null  object \n",
      " 1   FILIERE                      104086 non-null  object \n",
      " 2   Année                        104086 non-null  int64  \n",
      " 3   Code Département             104086 non-null  object \n",
      " 4   Nom Département              104086 non-null  object \n",
      " 5   Code Région                  104086 non-null  int64  \n",
      " 6   Nom Région                   104086 non-null  object \n",
      " 7   CODE CATEGORIE CONSOMMATION  104086 non-null  object \n",
      " 8   CODE GRAND SECTEUR           104086 non-null  object \n",
      " 9   Nb sites                     103005 non-null  float64\n",
      " 10  Conso totale (MWh)           103005 non-null  object \n",
      " 11  Conso moyenne (MWh)          103005 non-null  object \n",
      "dtypes: float64(1), int64(2), object(9)\n",
      "memory usage: 9.5+ MB\n"
     ]
    }
   ],
   "source": [
    "df.info()"
   ]
  },
  {
   "cell_type": "markdown",
   "id": "b1a51f48",
   "metadata": {},
   "source": [
    "<h2><b> 4) Modification des types de données </b></h2>"
   ]
  },
  {
   "cell_type": "markdown",
   "id": "1f35a4dc",
   "metadata": {},
   "source": [
    "<h3 style=\"color:blue\"><b> 4.1) Modification pour la consommation totale et moyenne en (MWh)</b> </h3>"
   ]
  },
  {
   "cell_type": "code",
   "execution_count": 7,
   "id": "930df235",
   "metadata": {},
   "outputs": [],
   "source": [
    "df[\"Conso totale (MWh)\"] = df[\"Conso totale (MWh)\"].astype(str).str.replace(\",\", \".\").astype(float)\n",
    "df[\"Conso moyenne (MWh)\"] = df[\"Conso moyenne (MWh)\"].astype(str).str.replace(\",\", \".\").astype(float)"
   ]
  },
  {
   "cell_type": "code",
   "execution_count": 8,
   "id": "abaac338",
   "metadata": {},
   "outputs": [
    {
     "name": "stdout",
     "output_type": "stream",
     "text": [
      "<class 'pandas.core.frame.DataFrame'>\n",
      "RangeIndex: 104086 entries, 0 to 104085\n",
      "Data columns (total 2 columns):\n",
      " #   Column               Non-Null Count   Dtype  \n",
      "---  ------               --------------   -----  \n",
      " 0   Conso totale (MWh)   103005 non-null  float64\n",
      " 1   Conso moyenne (MWh)  103005 non-null  float64\n",
      "dtypes: float64(2)\n",
      "memory usage: 1.6 MB\n"
     ]
    }
   ],
   "source": [
    "df[[\"Conso totale (MWh)\",\"Conso moyenne (MWh)\"]].info()"
   ]
  },
  {
   "cell_type": "markdown",
   "id": "7644c635",
   "metadata": {},
   "source": [
    "<h3 style=\"color:blue\"><b> 4.2) Modification pour les codes \"Département\" et \"Région\"</b> </h3>"
   ]
  },
  {
   "cell_type": "code",
   "execution_count": 9,
   "id": "fe1fae80",
   "metadata": {},
   "outputs": [],
   "source": [
    "df[\"Code Département\"] = df[\"Code Département\"].astype(str)\n",
    "df[\"Code Région\"] = df[\"Code Région\"].astype(str)"
   ]
  },
  {
   "cell_type": "code",
   "execution_count": 10,
   "id": "c1ec14d6",
   "metadata": {},
   "outputs": [
    {
     "name": "stdout",
     "output_type": "stream",
     "text": [
      "<class 'pandas.core.frame.DataFrame'>\n",
      "RangeIndex: 104086 entries, 0 to 104085\n",
      "Data columns (total 2 columns):\n",
      " #   Column            Non-Null Count   Dtype \n",
      "---  ------            --------------   ----- \n",
      " 0   Code Département  104086 non-null  object\n",
      " 1   Code Région       104086 non-null  object\n",
      "dtypes: object(2)\n",
      "memory usage: 1.6+ MB\n"
     ]
    }
   ],
   "source": [
    "df[[\"Code Département\",\"Code Région\"]].info()"
   ]
  },
  {
   "cell_type": "markdown",
   "id": "bafa1169",
   "metadata": {},
   "source": [
    "<h2><b> 5) Prise d'information des NaN </b></h2>"
   ]
  },
  {
   "cell_type": "code",
   "execution_count": 11,
   "id": "b754e12e",
   "metadata": {},
   "outputs": [
    {
     "data": {
      "text/plain": [
       "OPERATEUR                         0\n",
       "FILIERE                           0\n",
       "Année                             0\n",
       "Code Département                  0\n",
       "Nom Département                   0\n",
       "Code Région                       0\n",
       "Nom Région                        0\n",
       "CODE CATEGORIE CONSOMMATION       0\n",
       "CODE GRAND SECTEUR                0\n",
       "Nb sites                       1081\n",
       "Conso totale (MWh)             1081\n",
       "Conso moyenne (MWh)            1081\n",
       "dtype: int64"
      ]
     },
     "execution_count": 11,
     "metadata": {},
     "output_type": "execute_result"
    }
   ],
   "source": [
    "df.isna().sum()"
   ]
  },
  {
   "cell_type": "markdown",
   "id": "5812dffd",
   "metadata": {},
   "source": [
    "<h2><b> 6) Remplissage des valeurs manquantes </b></h2>"
   ]
  },
  {
   "cell_type": "code",
   "execution_count": 12,
   "id": "31c71e30",
   "metadata": {},
   "outputs": [],
   "source": [
    "df[\"Nb sites\"] = df[\"Nb sites\"].fillna(df[\"Nb sites\"].median())\n",
    "df[\"Conso totale (MWh)\"] = df[\"Conso totale (MWh)\"].fillna(df[\"Conso totale (MWh)\"].median())\n",
    "df[\"Conso moyenne (MWh)\"] = df[\"Conso moyenne (MWh)\"].fillna(df[\"Conso moyenne (MWh)\"].median())"
   ]
  },
  {
   "cell_type": "markdown",
   "id": "c04febe6",
   "metadata": {},
   "source": [
    "<h2><b> 7) Connection à la base de données </b></h2>"
   ]
  },
  {
   "cell_type": "code",
   "execution_count": 13,
   "id": "0cd49648",
   "metadata": {},
   "outputs": [],
   "source": [
    "try:\n",
    "\n",
    "    conn = psycopg2.connect(\n",
    "        dbname=\"consommation_elec\",\n",
    "        user=\"postgres\",\n",
    "        password=\"0000\",\n",
    "        host=\"localhost\",\n",
    "        port=\"5432\"\n",
    "    )\n",
    "\n",
    "except psycopg2.OperationalError as error:\n",
    "    print(f\"OperationalError: {error}\")"
   ]
  },
  {
   "cell_type": "markdown",
   "id": "47be6ff0",
   "metadata": {},
   "source": [
    "<h2><b> 8) Supression des doublons pour le remplissage des tables de Dimensions </b></h2>"
   ]
  },
  {
   "cell_type": "code",
   "execution_count": 14,
   "id": "581921c7",
   "metadata": {},
   "outputs": [],
   "source": [
    "def format_float(value):\n",
    "    if isinstance(value, str):\n",
    "        return float(value.replace(\",\", \".\")) \n",
    "    return value  \n",
    "\n",
    "unique_rows_filiere = df.drop_duplicates(subset=['FILIERE'])\n",
    "unique_rows_temps = df.drop_duplicates(subset=['Année'])\n",
    "unique_rows_secteur = df.drop_duplicates(subset=['CODE GRAND SECTEUR'])\n",
    "unique_rows_region = df.drop_duplicates(subset=[\"Code Région\",\"Nom Région\"])\n",
    "unique_rows_departement = df.drop_duplicates(subset=[\"Code Département\",\"Nom Département\"])\n",
    "unique_rows_consommation = df.drop_duplicates(subset=[\"Nb sites\", \"Conso totale (MWh)\", \"Conso moyenne (MWh)\",\"OPERATEUR\",\"CODE CATEGORIE CONSOMMATION\"])"
   ]
  },
  {
   "cell_type": "code",
   "execution_count": 15,
   "id": "ab5bcb26",
   "metadata": {},
   "outputs": [],
   "source": [
    "cursor = conn.cursor()"
   ]
  },
  {
   "cell_type": "markdown",
   "id": "636f8abb",
   "metadata": {},
   "source": [
    "<h2><b> 9) Création de la base de données </b></h2>"
   ]
  },
  {
   "cell_type": "code",
   "execution_count": null,
   "id": "a6992b60",
   "metadata": {},
   "outputs": [],
   "source": [
    "cursor.execute(\n",
    "    \"\"\"\n",
    "-- Dimension : REGION\n",
    "CREATE TABLE region (\n",
    "    region_id INTEGER GENERATED BY DEFAULT AS IDENTITY PRIMARY KEY,\n",
    "    code_region TEXT NOT NULL UNIQUE,\n",
    "    nom_region TEXT NOT NULL UNIQUE\n",
    ");\n",
    "\n",
    "-- Dimension : DEPARTEMENT\n",
    "CREATE TABLE departement (\n",
    "    departement_id INTEGER GENERATED BY DEFAULT AS IDENTITY PRIMARY KEY,\n",
    "    region_id INTEGER NOT NULL REFERENCES region(region_id) ON DELETE CASCADE,\n",
    "    code_departement TEXT NOT NULL,\n",
    "    nom_departement TEXT NOT NULL,\n",
    "    CONSTRAINT unique_code_nom_departement UNIQUE (code_departement, nom_departement)\n",
    ");\n",
    "\n",
    "-- Dimension : SECTEUR\n",
    "CREATE TABLE secteur (\n",
    "    secteur_id INTEGER GENERATED BY DEFAULT AS IDENTITY PRIMARY KEY,\n",
    "    type_secteur TEXT NOT NULL UNIQUE\n",
    ");\n",
    "\n",
    "-- Dimension : TEMPS\n",
    "CREATE TABLE temps (\n",
    "    temps_id INTEGER GENERATED BY DEFAULT AS IDENTITY PRIMARY KEY,\n",
    "    annee INTEGER NOT NULL UNIQUE\n",
    ");\n",
    "\n",
    "-- Dimension : FILLIERE\n",
    "CREATE TABLE filiere (\n",
    "    filiere_id INTEGER GENERATED BY DEFAULT AS IDENTITY PRIMARY KEY,\n",
    "    type_filiere TEXT NOT NULL UNIQUE\n",
    ");\n",
    "\n",
    "-- Table de faits : CONSOMMATION\n",
    "CREATE TABLE consommation (\n",
    "    consommation_id INTEGER GENERATED BY DEFAULT AS IDENTITY PRIMARY KEY,\n",
    "    region_id INTEGER NOT NULL REFERENCES region(region_id) ON DELETE CASCADE,\n",
    "    departement_id INTEGER NOT NULL REFERENCES departement(departement_id) ON DELETE CASCADE,\n",
    "    temps_id INTEGER NOT NULL REFERENCES temps(temps_id) ON DELETE CASCADE,\n",
    "    filiere_id INTEGER NOT NULL REFERENCES filiere(filiere_id) ON DELETE CASCADE,\n",
    "    secteur_id INTEGER NOT NULL REFERENCES secteur(secteur_id),\n",
    "    categorie_consommation TEXT NOT NULL,\n",
    "    operateur TEXT NOT NULL,\n",
    "    nb_site INTEGER,\n",
    "    conso_totale FLOAT,\n",
    "    conso_moyenne FLOAT\n",
    ");\n",
    "\"\"\"\n",
    ")"
   ]
  },
  {
   "cell_type": "markdown",
   "id": "fbce0f87",
   "metadata": {},
   "source": [
    "<h2><b> 10) Peuplement de la base de données </b></h2>"
   ]
  },
  {
   "cell_type": "code",
   "execution_count": 16,
   "id": "9252468e",
   "metadata": {},
   "outputs": [],
   "source": [
    "\n",
    "# Vérifier si les tables sont vides avant insertion\n",
    "tables_to_check = {\n",
    "    \"filiere\": unique_rows_filiere,\n",
    "    \"temps\": unique_rows_temps,\n",
    "    \"secteur\": unique_rows_secteur,\n",
    "    \"region\": unique_rows_region,\n",
    "    \"departement\": unique_rows_departement,\n",
    "    \"consommation\" : unique_rows_consommation\n",
    "}\n",
    "\n",
    "for table_name, data in tables_to_check.items():\n",
    "    cursor.execute(f\"SELECT COUNT(*) FROM {table_name};\")\n",
    "    count = cursor.fetchone()[0]  # Récupérer le nombre de lignes\n",
    "\n",
    "    if count == 0:  # Seulement si la table est vide\n",
    "        for _, row in data.iterrows():\n",
    "            if table_name == \"filiere\":\n",
    "                cursor.execute(\"\"\"\n",
    "                    INSERT INTO filiere (type_filiere) VALUES (%s);\n",
    "                \"\"\", (row['FILIERE'],))\n",
    "            elif table_name == \"temps\":\n",
    "                cursor.execute(\"\"\"\n",
    "                    INSERT INTO temps (annee) VALUES (%s);\n",
    "                \"\"\", (row[\"Année\"],))\n",
    "            elif table_name == \"secteur\":\n",
    "                cursor.execute(\"\"\"\n",
    "                    INSERT INTO secteur (type_secteur) VALUES (%s);\n",
    "                \"\"\", (row[\"CODE GRAND SECTEUR\"],))\n",
    "            elif table_name == \"region\":\n",
    "                cursor.execute(\"\"\" \n",
    "                    INSERT INTO region (code_region, nom_region) VALUES (%s,%s);\n",
    "                \"\"\", (row[\"Code Région\"], row[\"Nom Région\"]))\n",
    "            elif table_name == \"departement\":\n",
    "                cursor.execute(\"\"\"\n",
    "                    SELECT region_id FROM region WHERE code_region = %s;\n",
    "                \"\"\", (row[\"Code Région\"],))  # Recherche de l'ID de la région\n",
    "\n",
    "                region_id = cursor.fetchone()  # Récupération de l'ID\n",
    "\n",
    "                if region_id:  # Vérifie que la région existe avant d'insérer\n",
    "                    cursor.execute(\"\"\"\n",
    "                        INSERT INTO departement (code_departement, nom_departement, region_id)\n",
    "                        VALUES (%s, %s, %s);\n",
    "                    \"\"\", (row[\"Code Département\"], row[\"Nom Département\"], region_id[0]))\n",
    "            else:\n",
    "                cursor.execute(\"SELECT region_id FROM region WHERE code_region = %s;\", (row[\"Code Région\"],))\n",
    "                region_id = cursor.fetchone()\n",
    "                \n",
    "                cursor.execute(\"SELECT departement_id FROM departement WHERE code_departement = %s;\", (row[\"Code Département\"],))\n",
    "                departement_id = cursor.fetchone()\n",
    "                \n",
    "                cursor.execute(\"SELECT temps_id FROM temps WHERE annee = %s;\", (row[\"Année\"],))\n",
    "                temps_id = cursor.fetchone()\n",
    "\n",
    "                cursor.execute(\"SELECT filiere_id FROM filiere WHERE type_filiere = %s;\", (row[\"FILIERE\"],))\n",
    "                filiere_id = cursor.fetchone()\n",
    "                \n",
    "                cursor.execute(\"SELECT secteur_id FROM secteur WHERE type_secteur = %s;\", (row[\"CODE GRAND SECTEUR\"],))\n",
    "                secteur_id = cursor.fetchone()\n",
    "\n",
    "                # Vérifier que toutes les références existent avant d'insérer\n",
    "                if region_id and departement_id and temps_id and secteur_id and filiere_id:\n",
    "                    cursor.execute(\"\"\"\n",
    "                        INSERT INTO consommation (\n",
    "                            region_id, departement_id, temps_id, filiere_id, secteur_id,\n",
    "                            categorie_consommation, operateur, nb_site, conso_totale, conso_moyenne\n",
    "                        ) VALUES (%s, %s, %s, %s, %s, %s, %s, %s, %s,%s);\n",
    "                    \"\"\", (\n",
    "                        region_id[0], departement_id[0], temps_id[0], filiere_id[0], secteur_id[0], \n",
    "                        row[\"CODE CATEGORIE CONSOMMATION\"], row[\"OPERATEUR\"], format_float(row[\"Nb sites\"]),\n",
    "                        format_float(row[\"Conso totale (MWh)\"]),\n",
    "                        format_float(row[\"Conso moyenne (MWh)\"])\n",
    "                    ))\n",
    "\n",
    "\n",
    "conn.commit()\n",
    "cursor.close()\n",
    "conn.close()\n"
   ]
  }
 ],
 "metadata": {
  "kernelspec": {
   "display_name": "Python 3 (ipykernel)",
   "language": "python",
   "name": "python3"
  },
  "language_info": {
   "codemirror_mode": {
    "name": "ipython",
    "version": 3
   },
   "file_extension": ".py",
   "mimetype": "text/x-python",
   "name": "python",
   "nbconvert_exporter": "python",
   "pygments_lexer": "ipython3",
   "version": "3.13.2"
  }
 },
 "nbformat": 4,
 "nbformat_minor": 5
}
